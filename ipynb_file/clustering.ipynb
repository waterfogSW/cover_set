{
  "nbformat": 4,
  "nbformat_minor": 0,
  "metadata": {
    "colab": {
      "name": "Untitled2.ipynb",
      "provenance": [],
      "authorship_tag": "ABX9TyMXhtKbPgO7SmLfx/K+F6f0",
      "include_colab_link": true
    },
    "kernelspec": {
      "name": "python3",
      "display_name": "Python 3"
    },
    "language_info": {
      "name": "python"
    }
  },
  "cells": [
    {
      "cell_type": "markdown",
      "metadata": {
        "id": "view-in-github",
        "colab_type": "text"
      },
      "source": [
        "<a href=\"https://colab.research.google.com/github/waterfogSW/cover_set/blob/master/ipynb_file/clustering.ipynb\" target=\"_parent\"><img src=\"https://colab.research.google.com/assets/colab-badge.svg\" alt=\"Open In Colab\"/></a>"
      ]
    },
    {
      "cell_type": "code",
      "metadata": {
        "id": "Y5sGPPZMYHCb"
      },
      "source": [
        "import numpy as np\n",
        "import pandas as pd\n",
        "from scipy.spatial import distance\n",
        "import matplotlib.pyplot as plt\n",
        "from sklearn.preprocessing import StandardScaler\n",
        "%matplotlib inline"
      ],
      "execution_count": 1,
      "outputs": []
    },
    {
      "cell_type": "code",
      "metadata": {
        "id": "bf9Kz3U3YTjh"
      },
      "source": [
        "def parse_csv(path : str):\n",
        "    scp_df = pd.read_csv(path)\n",
        "    scp_df = scp_df.rename(columns={'X0':'X'})\n",
        "    scp_df = scp_df.rename(columns={'X1':'Y'})\n",
        "    return scp_df"
      ],
      "execution_count": 2,
      "outputs": []
    },
    {
      "cell_type": "code",
      "metadata": {
        "colab": {
          "base_uri": "https://localhost:8080/",
          "height": 204
        },
        "id": "2-Qp_wrxa4R_",
        "outputId": "3fd5fdec-5302-432b-ccfa-3b97e652d6ed"
      },
      "source": [
        "df = parse_csv(\"./scp_data.csv\")\n",
        "df.head()"
      ],
      "execution_count": 3,
      "outputs": [
        {
          "output_type": "execute_result",
          "data": {
            "text/html": [
              "<div>\n",
              "<style scoped>\n",
              "    .dataframe tbody tr th:only-of-type {\n",
              "        vertical-align: middle;\n",
              "    }\n",
              "\n",
              "    .dataframe tbody tr th {\n",
              "        vertical-align: top;\n",
              "    }\n",
              "\n",
              "    .dataframe thead th {\n",
              "        text-align: right;\n",
              "    }\n",
              "</style>\n",
              "<table border=\"1\" class=\"dataframe\">\n",
              "  <thead>\n",
              "    <tr style=\"text-align: right;\">\n",
              "      <th></th>\n",
              "      <th>X</th>\n",
              "      <th>Y</th>\n",
              "    </tr>\n",
              "  </thead>\n",
              "  <tbody>\n",
              "    <tr>\n",
              "      <th>0</th>\n",
              "      <td>-6.810625</td>\n",
              "      <td>-0.060347</td>\n",
              "    </tr>\n",
              "    <tr>\n",
              "      <th>1</th>\n",
              "      <td>-0.303414</td>\n",
              "      <td>-2.979659</td>\n",
              "    </tr>\n",
              "    <tr>\n",
              "      <th>2</th>\n",
              "      <td>-7.891267</td>\n",
              "      <td>-11.736160</td>\n",
              "    </tr>\n",
              "    <tr>\n",
              "      <th>3</th>\n",
              "      <td>4.327531</td>\n",
              "      <td>2.606615</td>\n",
              "    </tr>\n",
              "    <tr>\n",
              "      <th>4</th>\n",
              "      <td>-9.171777</td>\n",
              "      <td>-6.358040</td>\n",
              "    </tr>\n",
              "  </tbody>\n",
              "</table>\n",
              "</div>"
            ],
            "text/plain": [
              "          X          Y\n",
              "0 -6.810625  -0.060347\n",
              "1 -0.303414  -2.979659\n",
              "2 -7.891267 -11.736160\n",
              "3  4.327531   2.606615\n",
              "4 -9.171777  -6.358040"
            ]
          },
          "metadata": {
            "tags": []
          },
          "execution_count": 3
        }
      ]
    },
    {
      "cell_type": "code",
      "metadata": {
        "id": "RHAC5bhda-EE"
      },
      "source": [
        "# normalize data\n",
        "loc = df.values\n",
        "sc = StandardScaler()\n",
        "sc.fit(loc)\n",
        "loc = sc.transform(loc)"
      ],
      "execution_count": 4,
      "outputs": []
    },
    {
      "cell_type": "code",
      "metadata": {
        "id": "kVrBKe_sbGY0"
      },
      "source": [
        "def kmeans(loc,k=3,max_iterations=100):\n",
        "    '''\n",
        "    loc: Police office location data\n",
        "    k: number of clusters\n",
        "    max_iterations: number of repetitions before clusters are established\n",
        "    '''\n",
        "    if isinstance(loc, pd.DataFrame):loc = loc.values\n",
        "    idx = np.random.choice(len(loc), k, replace=False)\n",
        "    centroids = loc[idx, :]\n",
        "    P = np.argmin(distance.cdist(loc, centroids, 'euclidean'),axis=1)\n",
        "    for _ in range(max_iterations):\n",
        "        centroids = np.vstack([loc[P==i,:].mean(axis=0) for i in range(k)])\n",
        "        tmp = np.argmin(distance.cdist(loc, centroids, 'euclidean'),axis=1)\n",
        "        if np.array_equal(P,tmp):break\n",
        "        P = tmp\n",
        "    return P"
      ],
      "execution_count": 5,
      "outputs": []
    },
    {
      "cell_type": "code",
      "metadata": {
        "colab": {
          "base_uri": "https://localhost:8080/",
          "height": 483
        },
        "id": "7sJvMm86bHuH",
        "outputId": "0660c6c6-4f7b-437c-cffb-9c884094aa32"
      },
      "source": [
        "cluster_num = 3\n",
        "P = kmeans(loc,cluster_num)\n",
        "\n",
        "assert len(df) == len(P)\n",
        "# denormalize data\n",
        "loc = sc.inverse_transform(loc)\n",
        "plt.subplots(figsize=(8, 8))\n",
        "plt.scatter(loc[:,0],loc[:,1],c=P)\n",
        "plt.show()"
      ],
      "execution_count": 7,
      "outputs": [
        {
          "output_type": "display_data",
          "data": {
            "image/png": "[encoded data removed]",
            "text/plain": [
              "<Figure size 576x576 with 1 Axes>"
            ]
          },
          "metadata": {
            "tags": [],
            "needs_background": "light"
          }
        }
      ]
    },
    {
      "cell_type": "code",
      "metadata": {
        "colab": {
          "base_uri": "https://localhost:8080/",
          "height": 204
        },
        "id": "6tOAVnRHbcjQ",
        "outputId": "f93ef7cc-7772-428a-b2b8-f9dc91d23151"
      },
      "source": [
        "cluster = pd.DataFrame(P, columns = ['cluster'])\n",
        "df['cluster'] = cluster\n",
        "df.head()"
      ],
      "execution_count": 8,
      "outputs": [
        {
          "output_type": "execute_result",
          "data": {
            "text/html": [
              "<div>\n",
              "<style scoped>\n",
              "    .dataframe tbody tr th:only-of-type {\n",
              "        vertical-align: middle;\n",
              "    }\n",
              "\n",
              "    .dataframe tbody tr th {\n",
              "        vertical-align: top;\n",
              "    }\n",
              "\n",
              "    .dataframe thead th {\n",
              "        text-align: right;\n",
              "    }\n",
              "</style>\n",
              "<table border=\"1\" class=\"dataframe\">\n",
              "  <thead>\n",
              "    <tr style=\"text-align: right;\">\n",
              "      <th></th>\n",
              "      <th>X</th>\n",
              "      <th>Y</th>\n",
              "      <th>cluster</th>\n",
              "    </tr>\n",
              "  </thead>\n",
              "  <tbody>\n",
              "    <tr>\n",
              "      <th>0</th>\n",
              "      <td>-6.810625</td>\n",
              "      <td>-0.060347</td>\n",
              "      <td>0</td>\n",
              "    </tr>\n",
              "    <tr>\n",
              "      <th>1</th>\n",
              "      <td>-0.303414</td>\n",
              "      <td>-2.979659</td>\n",
              "      <td>2</td>\n",
              "    </tr>\n",
              "    <tr>\n",
              "      <th>2</th>\n",
              "      <td>-7.891267</td>\n",
              "      <td>-11.736160</td>\n",
              "      <td>0</td>\n",
              "    </tr>\n",
              "    <tr>\n",
              "      <th>3</th>\n",
              "      <td>4.327531</td>\n",
              "      <td>2.606615</td>\n",
              "      <td>1</td>\n",
              "    </tr>\n",
              "    <tr>\n",
              "      <th>4</th>\n",
              "      <td>-9.171777</td>\n",
              "      <td>-6.358040</td>\n",
              "      <td>0</td>\n",
              "    </tr>\n",
              "  </tbody>\n",
              "</table>\n",
              "</div>"
            ],
            "text/plain": [
              "          X          Y  cluster\n",
              "0 -6.810625  -0.060347        0\n",
              "1 -0.303414  -2.979659        2\n",
              "2 -7.891267 -11.736160        0\n",
              "3  4.327531   2.606615        1\n",
              "4 -9.171777  -6.358040        0"
            ]
          },
          "metadata": {
            "tags": []
          },
          "execution_count": 8
        }
      ]
    },
    {
      "cell_type": "code",
      "metadata": {
        "id": "LiEBKt7Pew6c"
      },
      "source": [
        "groups = df.groupby(df.cluster)\n",
        "df_arr = []\n",
        "for i in range(0, cluster_num):\n",
        "    df_arr.append(groups.get_group(i))\n",
        " "
      ],
      "execution_count": 9,
      "outputs": []
    },
    {
      "cell_type": "code",
      "metadata": {
        "colab": {
          "base_uri": "https://localhost:8080/",
          "height": 419
        },
        "id": "nJGXIlVOfw1q",
        "outputId": "31ec1c32-893f-4cb9-9b89-d68a387ded42"
      },
      "source": [
        "df_arr[0]"
      ],
      "execution_count": 10,
      "outputs": [
        {
          "output_type": "execute_result",
          "data": {
            "text/html": [
              "<div>\n",
              "<style scoped>\n",
              "    .dataframe tbody tr th:only-of-type {\n",
              "        vertical-align: middle;\n",
              "    }\n",
              "\n",
              "    .dataframe tbody tr th {\n",
              "        vertical-align: top;\n",
              "    }\n",
              "\n",
              "    .dataframe thead th {\n",
              "        text-align: right;\n",
              "    }\n",
              "</style>\n",
              "<table border=\"1\" class=\"dataframe\">\n",
              "  <thead>\n",
              "    <tr style=\"text-align: right;\">\n",
              "      <th></th>\n",
              "      <th>X</th>\n",
              "      <th>Y</th>\n",
              "      <th>cluster</th>\n",
              "    </tr>\n",
              "  </thead>\n",
              "  <tbody>\n",
              "    <tr>\n",
              "      <th>0</th>\n",
              "      <td>-6.810625</td>\n",
              "      <td>-0.060347</td>\n",
              "      <td>0</td>\n",
              "    </tr>\n",
              "    <tr>\n",
              "      <th>2</th>\n",
              "      <td>-7.891267</td>\n",
              "      <td>-11.736160</td>\n",
              "      <td>0</td>\n",
              "    </tr>\n",
              "    <tr>\n",
              "      <th>4</th>\n",
              "      <td>-9.171777</td>\n",
              "      <td>-6.358040</td>\n",
              "      <td>0</td>\n",
              "    </tr>\n",
              "    <tr>\n",
              "      <th>7</th>\n",
              "      <td>-7.476478</td>\n",
              "      <td>0.270167</td>\n",
              "      <td>0</td>\n",
              "    </tr>\n",
              "    <tr>\n",
              "      <th>8</th>\n",
              "      <td>-6.728764</td>\n",
              "      <td>-2.734686</td>\n",
              "      <td>0</td>\n",
              "    </tr>\n",
              "    <tr>\n",
              "      <th>...</th>\n",
              "      <td>...</td>\n",
              "      <td>...</td>\n",
              "      <td>...</td>\n",
              "    </tr>\n",
              "    <tr>\n",
              "      <th>491</th>\n",
              "      <td>-6.575376</td>\n",
              "      <td>-7.582890</td>\n",
              "      <td>0</td>\n",
              "    </tr>\n",
              "    <tr>\n",
              "      <th>492</th>\n",
              "      <td>-6.892457</td>\n",
              "      <td>-3.420081</td>\n",
              "      <td>0</td>\n",
              "    </tr>\n",
              "    <tr>\n",
              "      <th>494</th>\n",
              "      <td>-5.983171</td>\n",
              "      <td>-8.993865</td>\n",
              "      <td>0</td>\n",
              "    </tr>\n",
              "    <tr>\n",
              "      <th>497</th>\n",
              "      <td>-4.374134</td>\n",
              "      <td>-7.369407</td>\n",
              "      <td>0</td>\n",
              "    </tr>\n",
              "    <tr>\n",
              "      <th>498</th>\n",
              "      <td>-8.664096</td>\n",
              "      <td>-5.931189</td>\n",
              "      <td>0</td>\n",
              "    </tr>\n",
              "  </tbody>\n",
              "</table>\n",
              "<p>200 rows × 3 columns</p>\n",
              "</div>"
            ],
            "text/plain": [
              "            X          Y  cluster\n",
              "0   -6.810625  -0.060347        0\n",
              "2   -7.891267 -11.736160        0\n",
              "4   -9.171777  -6.358040        0\n",
              "7   -7.476478   0.270167        0\n",
              "8   -6.728764  -2.734686        0\n",
              "..        ...        ...      ...\n",
              "491 -6.575376  -7.582890        0\n",
              "492 -6.892457  -3.420081        0\n",
              "494 -5.983171  -8.993865        0\n",
              "497 -4.374134  -7.369407        0\n",
              "498 -8.664096  -5.931189        0\n",
              "\n",
              "[200 rows x 3 columns]"
            ]
          },
          "metadata": {
            "tags": []
          },
          "execution_count": 10
        }
      ]
    },
    {
      "cell_type": "code",
      "metadata": {
        "id": "bPwc7RJpFQS4"
      },
      "source": [
        "import math\n",
        "\n",
        "def isInCircle(Cx, Cy, Px, Py, radius : int):\n",
        "    dist = math.sqrt((Cx-Px)**2 + (Cy-Py)**2)\n",
        "    if dist <= radius:\n",
        "        return True\n",
        "    else:\n",
        "        return False\n",
        "# 각 점을 중심점 삼아 'radius'길이의 반지름을 갖는 원을 생성한다. \n",
        "# 생성된 원은 _circle 리스트에 전달(각 원은 리스트 형태이고, 원 안의 점들(인덱스)이 포함된다.)\n",
        "def make_circle(ax, ay, data, radius):\n",
        "    _info = []\n",
        "    _info.append([ax, ay])\n",
        "    _circle = []\n",
        "    \n",
        "    for idx in range(data['X'].size):\n",
        "        bx = data.values[idx][0]\n",
        "        by = data.values[idx][1]\n",
        "        \n",
        "        if(isInCircle(ax, ay, bx, by, radius)):\n",
        "            #if ax == bx and ay == by:  # 중심점 제외\n",
        "            #    continue\n",
        "            _circle.append(idx)\n",
        "           \n",
        "    _info.append(_circle)\n",
        "    \n",
        "    return _info, len(_circle) # 원 안의 요소들 집합과 원의 사이즈 리턴\n",
        "\n",
        "def make_total_circle(radius, data):\n",
        "    totalCircle = []\n",
        "    totalCircleSize = []\n",
        "    for idx in range(data['X'].size):\n",
        "        ax = data.values[idx][0]\n",
        "        ay = data.values[idx][1]\n",
        "    \n",
        "        _circle, _circleSize = make_circle(ax, ay, data, radius)\n",
        "        totalCircle.append(_circle)\n",
        "        totalCircleSize.append(_circleSize)\n",
        "    \n",
        "    return totalCircle\n",
        "\n",
        "# 합집합 갱신 \n",
        "def update_unionSet(totalSelectedPoint, unionSet, selectedPoint):\n",
        "    totalSelectedPoint.append(selectedPoint[0])\n",
        "    unionSet += selectedPoint[1]\n",
        "    \n",
        "    return totalSelectedPoint, unionSet\n",
        "\n",
        "# 데이터 갱신(이미 선택된 점들 제거)\n",
        "def update_data(unionSet, totalCircle,data): ## 변경\n",
        "    newTotalCircle = []\n",
        "    unionSet = set(unionSet)\n",
        "    \n",
        "    for idx in range(len(data)): ## 변경\n",
        "        tempSet = set(totalCircle[idx][1])\n",
        "        \n",
        "        tempSet = tempSet - unionSet\n",
        "        tempSet = list(tempSet)\n",
        "        \n",
        "        _temp = [] \n",
        "        _temp.append(totalCircle[idx][0])\n",
        "        _temp.append(tempSet)\n",
        "        \n",
        "        newTotalCircle.append(_temp)\n",
        "        \n",
        "    return newTotalCircle\n",
        "\n",
        "# 최적의 중심점들을 도출\n",
        "def processing(totalCircle, data): ## 변경\n",
        "    unionSet = []\n",
        "    totalSelectedPoint = []\n",
        "    \n",
        "    while len(unionSet) < len(data): ## 변경\n",
        "        # sort\n",
        "        totalCircle.sort(key = lambda x:len(x[1]), reverse=True)\n",
        "        \n",
        "        # 가장 큰 집합 선택\n",
        "        selectedPoint = totalCircle[0]\n",
        "        \n",
        "        # 좌표 append, 합집합 갱신\n",
        "        totalSelectedPoint, unionSet = update_unionSet(totalSelectedPoint, unionSet, selectedPoint)\n",
        "        \n",
        "        # 처음 좌표의 리스트 기준으로 나머지 리스트 갱신\n",
        "        totalCircle = update_data(unionSet, totalCircle, data)\n",
        "        \n",
        "        \n",
        "    return totalSelectedPoint\n",
        "\n",
        "# 시각화\n",
        "def scatter_circles(selected_point, radius, data):\n",
        "\n",
        "    fig, ax_nstd = plt.subplots(figsize=(8, 8))\n",
        "\n",
        "    plt.scatter(data['X'],data['Y'], s=5, alpha=0.7, c=P) ## 변경\n",
        "    for Cx, Cy in selected_point:\n",
        "        plt.scatter(Cx, Cy, color = 'k', marker = 'x', s = 10)\n",
        "        ax_nstd.add_patch(plt.Circle((Cx, Cy), radius, color='lavender', alpha=0.3))\n",
        "    plt.show()\n",
        "\n",
        "def  c_cover_set_test(start, end, path) :\n",
        "    data = parse_csv(path)\n",
        "    for radius in range(start, end):\n",
        "        totalSelectedPoint = []\n",
        "        for i in range(cluster_num):\n",
        "            totalCircle = make_total_circle(radius,df_arr[i])\n",
        "            SelectedPoint = processing(totalCircle,df_arr[i])\n",
        "            totalSelectedPoint = totalSelectedPoint + SelectedPoint\n",
        "        print (\"반지름 길이: {radius}인 원 생성, 선택된 점들\".format(radius=radius))\n",
        "        print(totalSelectedPoint)\n",
        "\n",
        "        scatter_circles(totalSelectedPoint, radius, data)\n",
        "        print(\"선택된 원의 갯수: {num}\".format(num=len(totalSelectedPoint)))\n",
        "        print(\"\\n\\n\")"
      ],
      "execution_count": 33,
      "outputs": []
    },
    {
      "cell_type": "code",
      "metadata": {
        "colab": {
          "base_uri": "https://localhost:8080/",
          "height": 846
        },
        "id": "l3_7QpUvFssI",
        "outputId": "32551f24-9225-4636-883b-f709e11ab8a6"
      },
      "source": [
        "c_cover_set_test(3,15,\"scp_data.csv\")"
      ],
      "execution_count": 32,
      "outputs": [
        {
          "output_type": "stream",
          "text": [
            "반지름 길이: 3인 원 생성, 선택된 점들\n",
            "[[-8.010849784678102, -6.850366440142776], [-8.959881679987337, -1.954042004858892], [-10.000137822905048, -10.425973359602867], [-6.632172595724741, -9.08632540183337], [-6.605503110707942, -1.6807244277222984], [-11.425554452845542, -2.938408825373928], [-12.281305912234053, -8.64686704463743], [-5.235974902635094, -4.119357783095237], [-11.52250263011322, -1.8271859527260117], [2.8216352846256663, 4.136913495172196], [4.902193048990443, 10.084446430105672], [1.0026573338898048, 10.133946904149617], [6.527121501791578, 5.539298778677661], [-1.6090987939367123, 4.4484997098738965], [5.373740422273478, 12.636983164866734], [7.081399420875013, 11.73787445447032], [-1.3502767499896633, 5.675071460003122], [4.442232623672101, 4.345441011891947], [2.0097604567262604, -4.058358305114123], [1.9397566905945585, 0.314399491924696], [5.036332198569792, -5.64464495166971], [-0.7899674747110494, -6.245615220364826], [5.6764496868279695, -2.877536152890145]]\n"
          ],
          "name": "stdout"
        },
        {
          "output_type": "error",
          "ename": "NameError",
          "evalue": "ignored",
          "traceback": [
            "\u001b[0;31m---------------------------------------------------------------------------\u001b[0m",
            "\u001b[0;31mNameError\u001b[0m                                 Traceback (most recent call last)",
            "\u001b[0;32m<ipython-input-32-58c334987cc0>\u001b[0m in \u001b[0;36m<module>\u001b[0;34m()\u001b[0m\n\u001b[0;32m----> 1\u001b[0;31m \u001b[0mc_cover_set_test\u001b[0m\u001b[0;34m(\u001b[0m\u001b[0;36m3\u001b[0m\u001b[0;34m,\u001b[0m\u001b[0;36m15\u001b[0m\u001b[0;34m,\u001b[0m\u001b[0;34m\"scp_data.csv\"\u001b[0m\u001b[0;34m)\u001b[0m\u001b[0;34m\u001b[0m\u001b[0;34m\u001b[0m\u001b[0m\n\u001b[0m",
            "\u001b[0;32m<ipython-input-31-342da217e2ab>\u001b[0m in \u001b[0;36mc_cover_set_test\u001b[0;34m(start, end, path)\u001b[0m\n\u001b[1;32m    109\u001b[0m         \u001b[0mprint\u001b[0m\u001b[0;34m(\u001b[0m\u001b[0mtotalSelectedPoint\u001b[0m\u001b[0;34m)\u001b[0m\u001b[0;34m\u001b[0m\u001b[0;34m\u001b[0m\u001b[0m\n\u001b[1;32m    110\u001b[0m \u001b[0;34m\u001b[0m\u001b[0m\n\u001b[0;32m--> 111\u001b[0;31m         \u001b[0mscatter_circles\u001b[0m\u001b[0;34m(\u001b[0m\u001b[0mtotalSelectedPoint\u001b[0m\u001b[0;34m,\u001b[0m \u001b[0mradius\u001b[0m\u001b[0;34m,\u001b[0m \u001b[0mdata\u001b[0m\u001b[0;34m)\u001b[0m\u001b[0;34m\u001b[0m\u001b[0;34m\u001b[0m\u001b[0m\n\u001b[0m\u001b[1;32m    112\u001b[0m         \u001b[0mprint\u001b[0m\u001b[0;34m(\u001b[0m\u001b[0;34m\"선택된 원의 갯수: {num}\"\u001b[0m\u001b[0;34m.\u001b[0m\u001b[0mformat\u001b[0m\u001b[0;34m(\u001b[0m\u001b[0mnum\u001b[0m\u001b[0;34m=\u001b[0m\u001b[0mlen\u001b[0m\u001b[0;34m(\u001b[0m\u001b[0mtotalSelectedPoint\u001b[0m\u001b[0;34m)\u001b[0m\u001b[0;34m)\u001b[0m\u001b[0;34m)\u001b[0m\u001b[0;34m\u001b[0m\u001b[0;34m\u001b[0m\u001b[0m\n\u001b[1;32m    113\u001b[0m         \u001b[0mprint\u001b[0m\u001b[0;34m(\u001b[0m\u001b[0;34m\"\\n\\n\"\u001b[0m\u001b[0;34m)\u001b[0m\u001b[0;34m\u001b[0m\u001b[0;34m\u001b[0m\u001b[0m\n",
            "\u001b[0;32m<ipython-input-31-342da217e2ab>\u001b[0m in \u001b[0;36mscatter_circles\u001b[0;34m(selected_point, radius, data)\u001b[0m\n\u001b[1;32m     92\u001b[0m     \u001b[0mfig\u001b[0m\u001b[0;34m,\u001b[0m \u001b[0max_nstd\u001b[0m \u001b[0;34m=\u001b[0m \u001b[0mplt\u001b[0m\u001b[0;34m.\u001b[0m\u001b[0msubplots\u001b[0m\u001b[0;34m(\u001b[0m\u001b[0mfigsize\u001b[0m\u001b[0;34m=\u001b[0m\u001b[0;34m(\u001b[0m\u001b[0;36m8\u001b[0m\u001b[0;34m,\u001b[0m \u001b[0;36m8\u001b[0m\u001b[0;34m)\u001b[0m\u001b[0;34m)\u001b[0m\u001b[0;34m\u001b[0m\u001b[0;34m\u001b[0m\u001b[0m\n\u001b[1;32m     93\u001b[0m \u001b[0;34m\u001b[0m\u001b[0m\n\u001b[0;32m---> 94\u001b[0;31m     \u001b[0mplt\u001b[0m\u001b[0;34m.\u001b[0m\u001b[0mscatter\u001b[0m\u001b[0;34m(\u001b[0m\u001b[0mdata\u001b[0m\u001b[0;34m[\u001b[0m\u001b[0;34m'X'\u001b[0m\u001b[0;34m]\u001b[0m\u001b[0;34m,\u001b[0m\u001b[0mdata\u001b[0m\u001b[0;34m[\u001b[0m\u001b[0;34m'Y'\u001b[0m\u001b[0;34m]\u001b[0m\u001b[0;34m,\u001b[0m \u001b[0ms\u001b[0m\u001b[0;34m=\u001b[0m\u001b[0;36m5\u001b[0m\u001b[0;34m,\u001b[0m \u001b[0malpha\u001b[0m\u001b[0;34m=\u001b[0m\u001b[0;36m0.7\u001b[0m\u001b[0;34m,\u001b[0m \u001b[0mc\u001b[0m\u001b[0;34m=\u001b[0m\u001b[0mM\u001b[0m\u001b[0;34m)\u001b[0m\u001b[0;34m\u001b[0m\u001b[0;34m\u001b[0m\u001b[0m\n\u001b[0m\u001b[1;32m     95\u001b[0m     \u001b[0;32mfor\u001b[0m \u001b[0mCx\u001b[0m\u001b[0;34m,\u001b[0m \u001b[0mCy\u001b[0m \u001b[0;32min\u001b[0m \u001b[0mselected_point\u001b[0m\u001b[0;34m:\u001b[0m\u001b[0;34m\u001b[0m\u001b[0;34m\u001b[0m\u001b[0m\n\u001b[1;32m     96\u001b[0m         \u001b[0mplt\u001b[0m\u001b[0;34m.\u001b[0m\u001b[0mscatter\u001b[0m\u001b[0;34m(\u001b[0m\u001b[0mCx\u001b[0m\u001b[0;34m,\u001b[0m \u001b[0mCy\u001b[0m\u001b[0;34m,\u001b[0m \u001b[0mcolor\u001b[0m \u001b[0;34m=\u001b[0m \u001b[0;34m'k'\u001b[0m\u001b[0;34m,\u001b[0m \u001b[0mmarker\u001b[0m \u001b[0;34m=\u001b[0m \u001b[0;34m'x'\u001b[0m\u001b[0;34m,\u001b[0m \u001b[0ms\u001b[0m \u001b[0;34m=\u001b[0m \u001b[0;36m10\u001b[0m\u001b[0;34m)\u001b[0m\u001b[0;34m\u001b[0m\u001b[0;34m\u001b[0m\u001b[0m\n",
            "\u001b[0;31mNameError\u001b[0m: name 'M' is not defined"
          ]
        },
        {
          "output_type": "display_data",
          "data": {
            "image/png": "[encoded data removed]",
            "text/plain": [
              "<Figure size 576x576 with 1 Axes>"
            ]
          },
          "metadata": {
            "tags": [],
            "needs_background": "light"
          }
        }
      ]
    }
  ]
}