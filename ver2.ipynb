{
 "cells": [
  {
   "cell_type": "code",
   "execution_count": 18,
   "metadata": {},
   "outputs": [],
   "source": [
    "import numpy as np\n",
    "import pandas as pd\n",
    "import matplotlib.pyplot as plt\n",
    "import math as mt"
   ]
  },
  {
   "cell_type": "code",
   "execution_count": 19,
   "metadata": {},
   "outputs": [
    {
     "data": {
      "text/html": [
       "<div>\n",
       "<style scoped>\n",
       "    .dataframe tbody tr th:only-of-type {\n",
       "        vertical-align: middle;\n",
       "    }\n",
       "\n",
       "    .dataframe tbody tr th {\n",
       "        vertical-align: top;\n",
       "    }\n",
       "\n",
       "    .dataframe thead th {\n",
       "        text-align: right;\n",
       "    }\n",
       "</style>\n",
       "<table border=\"1\" class=\"dataframe\">\n",
       "  <thead>\n",
       "    <tr style=\"text-align: right;\">\n",
       "      <th></th>\n",
       "      <th>X0</th>\n",
       "      <th>X1</th>\n",
       "    </tr>\n",
       "  </thead>\n",
       "  <tbody>\n",
       "    <tr>\n",
       "      <th>0</th>\n",
       "      <td>-6.810625</td>\n",
       "      <td>-0.060347</td>\n",
       "    </tr>\n",
       "    <tr>\n",
       "      <th>1</th>\n",
       "      <td>-0.303414</td>\n",
       "      <td>-2.979659</td>\n",
       "    </tr>\n",
       "    <tr>\n",
       "      <th>2</th>\n",
       "      <td>-7.891267</td>\n",
       "      <td>-11.736160</td>\n",
       "    </tr>\n",
       "    <tr>\n",
       "      <th>3</th>\n",
       "      <td>4.327531</td>\n",
       "      <td>2.606615</td>\n",
       "    </tr>\n",
       "    <tr>\n",
       "      <th>4</th>\n",
       "      <td>-9.171777</td>\n",
       "      <td>-6.358040</td>\n",
       "    </tr>\n",
       "  </tbody>\n",
       "</table>\n",
       "</div>"
      ],
      "text/plain": [
       "         X0         X1\n",
       "0 -6.810625  -0.060347\n",
       "1 -0.303414  -2.979659\n",
       "2 -7.891267 -11.736160\n",
       "3  4.327531   2.606615\n",
       "4 -9.171777  -6.358040"
      ]
     },
     "execution_count": 19,
     "metadata": {},
     "output_type": "execute_result"
    }
   ],
   "source": [
    "data = pd.read_csv('scp_data.csv')  # 디폴트 구분자는 comma\n",
    "data.head()"
   ]
  },
  {
   "cell_type": "code",
   "execution_count": 20,
   "metadata": {},
   "outputs": [
    {
     "data": {
      "text/plain": [
       "Text(0, 0.5, 'X1')"
      ]
     },
     "execution_count": 20,
     "metadata": {},
     "output_type": "execute_result"
    },
    {
     "data": {
      "image/png": "[encoded data removed]",
      "text/plain": [
       "<Figure size 432x288 with 1 Axes>"
      ]
     },
     "metadata": {
      "needs_background": "light"
     },
     "output_type": "display_data"
    }
   ],
   "source": [
    "# 시각화\n",
    "plt.plot(data['X0'],data['X1'],'o')  # x축에 들어갈 데이터, y축에 들어갈 데이터, 'o': 산점도\n",
    "plt.xlabel('X0') # x축 라벨\n",
    "plt.ylabel('X1') # y축 라벨"
   ]
  },
  {
   "cell_type": "code",
   "execution_count": 21,
   "metadata": {},
   "outputs": [
    {
     "data": {
      "text/html": [
       "<div>\n",
       "<style scoped>\n",
       "    .dataframe tbody tr th:only-of-type {\n",
       "        vertical-align: middle;\n",
       "    }\n",
       "\n",
       "    .dataframe tbody tr th {\n",
       "        vertical-align: top;\n",
       "    }\n",
       "\n",
       "    .dataframe thead th {\n",
       "        text-align: right;\n",
       "    }\n",
       "</style>\n",
       "<table border=\"1\" class=\"dataframe\">\n",
       "  <thead>\n",
       "    <tr style=\"text-align: right;\">\n",
       "      <th></th>\n",
       "      <th>X</th>\n",
       "      <th>Y</th>\n",
       "    </tr>\n",
       "  </thead>\n",
       "  <tbody>\n",
       "    <tr>\n",
       "      <th>0</th>\n",
       "      <td>-6.810625</td>\n",
       "      <td>-0.060347</td>\n",
       "    </tr>\n",
       "    <tr>\n",
       "      <th>1</th>\n",
       "      <td>-0.303414</td>\n",
       "      <td>-2.979659</td>\n",
       "    </tr>\n",
       "    <tr>\n",
       "      <th>2</th>\n",
       "      <td>-7.891267</td>\n",
       "      <td>-11.736160</td>\n",
       "    </tr>\n",
       "    <tr>\n",
       "      <th>3</th>\n",
       "      <td>4.327531</td>\n",
       "      <td>2.606615</td>\n",
       "    </tr>\n",
       "    <tr>\n",
       "      <th>4</th>\n",
       "      <td>-9.171777</td>\n",
       "      <td>-6.358040</td>\n",
       "    </tr>\n",
       "    <tr>\n",
       "      <th>...</th>\n",
       "      <td>...</td>\n",
       "      <td>...</td>\n",
       "    </tr>\n",
       "    <tr>\n",
       "      <th>495</th>\n",
       "      <td>6.167753</td>\n",
       "      <td>11.217280</td>\n",
       "    </tr>\n",
       "    <tr>\n",
       "      <th>496</th>\n",
       "      <td>3.306280</td>\n",
       "      <td>-7.856879</td>\n",
       "    </tr>\n",
       "    <tr>\n",
       "      <th>497</th>\n",
       "      <td>-4.374134</td>\n",
       "      <td>-7.369407</td>\n",
       "    </tr>\n",
       "    <tr>\n",
       "      <th>498</th>\n",
       "      <td>-8.664096</td>\n",
       "      <td>-5.931189</td>\n",
       "    </tr>\n",
       "    <tr>\n",
       "      <th>499</th>\n",
       "      <td>2.560500</td>\n",
       "      <td>-1.912164</td>\n",
       "    </tr>\n",
       "  </tbody>\n",
       "</table>\n",
       "<p>500 rows × 2 columns</p>\n",
       "</div>"
      ],
      "text/plain": [
       "            X          Y\n",
       "0   -6.810625  -0.060347\n",
       "1   -0.303414  -2.979659\n",
       "2   -7.891267 -11.736160\n",
       "3    4.327531   2.606615\n",
       "4   -9.171777  -6.358040\n",
       "..        ...        ...\n",
       "495  6.167753  11.217280\n",
       "496  3.306280  -7.856879\n",
       "497 -4.374134  -7.369407\n",
       "498 -8.664096  -5.931189\n",
       "499  2.560500  -1.912164\n",
       "\n",
       "[500 rows x 2 columns]"
      ]
     },
     "execution_count": 21,
     "metadata": {},
     "output_type": "execute_result"
    }
   ],
   "source": [
    "# 컬럼 rename\n",
    "data = data.rename(columns={'X0':'X'})\n",
    "data = data.rename(columns={'X1':'Y'})\n",
    "data"
   ]
  },
  {
   "cell_type": "code",
   "execution_count": null,
   "metadata": {},
   "outputs": [],
   "source": []
  },
  {
   "cell_type": "markdown",
   "metadata": {},
   "source": [
    "### 하나의 인덱싱 => 한 점의 좌표 추출"
   ]
  },
  {
   "cell_type": "code",
   "execution_count": 39,
   "metadata": {},
   "outputs": [
    {
     "data": {
      "text/plain": [
       "array([-6.8106249 , -0.06034676])"
      ]
     },
     "execution_count": 39,
     "metadata": {},
     "output_type": "execute_result"
    }
   ],
   "source": [
    "data.values[0] # 0행의 점, x좌표: -6.81xx, y좌표: -0.0603xxx"
   ]
  },
  {
   "cell_type": "code",
   "execution_count": 41,
   "metadata": {},
   "outputs": [],
   "source": [
    "# 유클리드 거리 계산 메서드\n",
    "def lengthCheck(ax, ay, bx, by, radius):\n",
    "    _len = mt.sqrt((ax-bx)**2 + (ay-by)**2) \n",
    "    if _len <= radius:\n",
    "        return True\n",
    "    else:\n",
    "        return False"
   ]
  },
  {
   "cell_type": "code",
   "execution_count": 42,
   "metadata": {},
   "outputs": [],
   "source": [
    "# 각 점을 중심점 삼아 'radius'길이의 반지름을 갖는 원을 생성한다. \n",
    "# 생성된 원은 _circle 리스트에 전달(각 원은 리스트 형태이고, 원 안의 점들(인덱스)이 포함된다.)\n",
    "def makeCircle(ax, ay, data, radius):\n",
    "    _info = []\n",
    "    _info.append([ax, ay])\n",
    "    _circle = []\n",
    "    \n",
    "    for idx in range(data['X'].size):\n",
    "        bx = data.values[idx][0]\n",
    "        by = data.values[idx][1]\n",
    "        \n",
    "        if(lengthCheck(ax, ay, bx, by, radius)):\n",
    "            #if ax == bx and ay == by:  # 중심점 제외\n",
    "            #    continue\n",
    "            _circle.append(idx)\n",
    "           \n",
    "    _info.append(_circle)\n",
    "    \n",
    "    return _info, len(_circle) # 원 안의 요소들 집합과 원의 사이즈 리턴"
   ]
  },
  {
   "cell_type": "code",
   "execution_count": 43,
   "metadata": {},
   "outputs": [
    {
     "name": "stdout",
     "output_type": "stream",
     "text": [
      "[[-6.810624895025088, -0.060346757151277235], [0, 7, 8, 22, 36, 48, 50, 54, 59, 80, 95, 102, 120, 136, 140, 169, 181, 216, 224, 253, 256, 263, 277, 291, 307, 327, 333, 346, 371, 396, 404, 436, 473, 489]]\n",
      "34\n"
     ]
    }
   ],
   "source": [
    "# 테스트\n",
    "# 0행의 좌표를 중심점으로 삼고, 반지름이 3인 원 안의 점들(list)\n",
    "_circle, _circleSize = makeCircle(data.values[0][0], data.values[0][1], data, 3)\n",
    "print(_circle)      # _circle[0]\n",
    "print(_circleSize)"
   ]
  },
  {
   "cell_type": "code",
   "execution_count": 44,
   "metadata": {},
   "outputs": [
    {
     "data": {
      "text/plain": [
       "[-6.810624895025088, -0.060346757151277235]"
      ]
     },
     "execution_count": 44,
     "metadata": {},
     "output_type": "execute_result"
    }
   ],
   "source": [
    "# 중심점\n",
    "_circle[0]"
   ]
  },
  {
   "cell_type": "code",
   "execution_count": 46,
   "metadata": {},
   "outputs": [
    {
     "data": {
      "text/plain": [
       "[0,\n",
       " 7,\n",
       " 8,\n",
       " 22,\n",
       " 36,\n",
       " 48,\n",
       " 50,\n",
       " 54,\n",
       " 59,\n",
       " 80,\n",
       " 95,\n",
       " 102,\n",
       " 120,\n",
       " 136,\n",
       " 140,\n",
       " 169,\n",
       " 181,\n",
       " 216,\n",
       " 224,\n",
       " 253,\n",
       " 256,\n",
       " 263,\n",
       " 277,\n",
       " 291,\n",
       " 307,\n",
       " 327,\n",
       " 333,\n",
       " 346,\n",
       " 371,\n",
       " 396,\n",
       " 404,\n",
       " 436,\n",
       " 473,\n",
       " 489]"
      ]
     },
     "execution_count": 46,
     "metadata": {},
     "output_type": "execute_result"
    }
   ],
   "source": [
    "# 중심점의 원 안의 점들(데이터 set 인덱스)\n",
    "_circle[1] # 중심점까지 포함"
   ]
  },
  {
   "cell_type": "code",
   "execution_count": null,
   "metadata": {},
   "outputs": [],
   "source": []
  },
  {
   "cell_type": "code",
   "execution_count": 47,
   "metadata": {},
   "outputs": [],
   "source": [
    "def makeTotalCircle(radius):\n",
    "    totalCircle = []\n",
    "    totalCircleSize = []\n",
    "    \n",
    "    for idx in range(data['X'].size):\n",
    "        ax = data.values[idx][0]\n",
    "        ay = data.values[idx][1]\n",
    "    \n",
    "        _circle, _circleSize = makeCircle(ax, ay, data, radius)\n",
    "        totalCircle.append(_circle)\n",
    "        totalCircleSize.append(_circleSize)\n",
    "    \n",
    "    return totalCircle"
   ]
  },
  {
   "cell_type": "code",
   "execution_count": 48,
   "metadata": {},
   "outputs": [],
   "source": [
    "# 합집합 갱신 \n",
    "def appendHapZip(totalSelectedPoint, hapZip, selectedPoint):\n",
    "    totalSelectedPoint.append(selectedPoint[0])\n",
    "    hapZip += selectedPoint[1]\n",
    "    \n",
    "    return totalSelectedPoint, hapZip"
   ]
  },
  {
   "cell_type": "code",
   "execution_count": 49,
   "metadata": {},
   "outputs": [],
   "source": [
    "# 데이터 갱신(이미 선택된 점들 제거)\n",
    "def dataRenewal(hapZip, totalCircle):\n",
    "    newTotalCircle = []\n",
    "    hapZip = set(hapZip)\n",
    "    \n",
    "    for idx in range(500):\n",
    "        tempSet = set(totalCircle[idx][1])\n",
    "        \n",
    "        tempSet = tempSet - hapZip\n",
    "        tempSet = list(tempSet)\n",
    "        \n",
    "        _temp = [] \n",
    "        _temp.append(totalCircle[idx][0])\n",
    "        _temp.append(tempSet)\n",
    "        \n",
    "        newTotalCircle.append(_temp)\n",
    "        \n",
    "    return newTotalCircle"
   ]
  },
  {
   "cell_type": "code",
   "execution_count": 50,
   "metadata": {},
   "outputs": [],
   "source": [
    "# 최적의 중심점들을 도출\n",
    "def processing(totalCircle):\n",
    "    hapZip = []\n",
    "    totalSelectedPoint = []\n",
    "    \n",
    "    while len(hapZip) < 500:\n",
    "        # sort\n",
    "        totalCircle.sort(key = lambda x:len(x[1]), reverse=True)\n",
    "        \n",
    "        # 가장 큰 집합 선택\n",
    "        selectedPoint = totalCircle[0]\n",
    "        \n",
    "        # 좌표 append, 합집합 갱신\n",
    "        totalSelectedPoint, hapZip = appendHapZip(totalSelectedPoint, hapZip, selectedPoint)\n",
    "        \n",
    "        # 처음 좌표의 리스트 기준으로 나머지 리스트 갱신\n",
    "        totalCircle = dataRenewal(hapZip, totalCircle)\n",
    "        \n",
    "        \n",
    "    return totalSelectedPoint"
   ]
  },
  {
   "cell_type": "code",
   "execution_count": null,
   "metadata": {},
   "outputs": [],
   "source": []
  },
  {
   "cell_type": "code",
   "execution_count": 51,
   "metadata": {},
   "outputs": [],
   "source": [
    "# 모든 점들을 중심점으로 삼는 원 생성, 반지름: 3 \n",
    "totalCircle = makeTotalCircle(3)"
   ]
  },
  {
   "cell_type": "code",
   "execution_count": 64,
   "metadata": {},
   "outputs": [],
   "source": [
    "#totalCircle"
   ]
  },
  {
   "cell_type": "code",
   "execution_count": 55,
   "metadata": {},
   "outputs": [
    {
     "data": {
      "text/plain": [
       "500"
      ]
     },
     "execution_count": 55,
     "metadata": {},
     "output_type": "execute_result"
    }
   ],
   "source": [
    "# 500개의 원 정보\n",
    "len(totalCircle) "
   ]
  },
  {
   "cell_type": "code",
   "execution_count": 56,
   "metadata": {},
   "outputs": [],
   "source": [
    "# 위 500개의 원들 중 모든 점을 포함하도록 특정 원을 선택한다. (Greedy 방식)\n",
    "totalSelectedPoint = processing(totalCircle)"
   ]
  },
  {
   "cell_type": "code",
   "execution_count": 58,
   "metadata": {},
   "outputs": [
    {
     "data": {
      "text/plain": [
       "[[-8.010849784678102, -6.850366440142776],\n",
       " [2.8216352846256663, 4.136913495172196],\n",
       " [2.0097604567262604, -4.058358305114123],\n",
       " [4.902193048990443, 10.084446430105672],\n",
       " [-8.959881679987337, -1.954042004858892],\n",
       " [-10.000137822905048, -10.425973359602867],\n",
       " [1.0026573338898048, 10.133946904149617],\n",
       " [1.9397566905945585, 0.314399491924696],\n",
       " [6.527121501791578, 5.539298778677661],\n",
       " [5.036332198569792, -5.64464495166971],\n",
       " [-0.7899674747110494, -6.245615220364826],\n",
       " [-1.6090987939367123, 4.4484997098738965],\n",
       " [-6.632172595724741, -9.08632540183337],\n",
       " [-6.605503110707942, -1.6807244277222984],\n",
       " [-11.425554452845542, -2.938408825373928],\n",
       " [5.6764496868279695, -2.877536152890145],\n",
       " [5.373740422273478, 12.636983164866734],\n",
       " [-12.281305912234053, -8.64686704463743],\n",
       " [-5.235974902635094, -4.119357783095237],\n",
       " [7.081399420875013, 11.73787445447032],\n",
       " [4.39552307717467, 0.07797613276763826],\n",
       " [-11.52250263011322, -1.8271859527260117],\n",
       " [-0.08462010441885902, 4.101145718078247]]"
      ]
     },
     "execution_count": 58,
     "metadata": {},
     "output_type": "execute_result"
    }
   ],
   "source": [
    "# 아래의 선택된 점들을 중심점으로 삼고 반지름 3인 원들을 그리면 데이터의 모든 점들이 원안에 포함된다. \n",
    "totalSelectedPoint"
   ]
  },
  {
   "cell_type": "code",
   "execution_count": null,
   "metadata": {},
   "outputs": [],
   "source": []
  },
  {
   "cell_type": "code",
   "execution_count": 63,
   "metadata": {},
   "outputs": [
    {
     "name": "stdout",
     "output_type": "stream",
     "text": [
      "반지름 길이: 3인 원 생성, 선택된 점 들\n",
      "[[-8.010849784678102, -6.850366440142776], [2.8216352846256663, 4.136913495172196], [2.0097604567262604, -4.058358305114123], [4.902193048990443, 10.084446430105672], [-8.959881679987337, -1.954042004858892], [-10.000137822905048, -10.425973359602867], [1.0026573338898048, 10.133946904149617], [1.9397566905945585, 0.314399491924696], [6.527121501791578, 5.539298778677661], [5.036332198569792, -5.64464495166971], [-0.7899674747110494, -6.245615220364826], [-1.6090987939367123, 4.4484997098738965], [-6.632172595724741, -9.08632540183337], [-6.605503110707942, -1.6807244277222984], [-11.425554452845542, -2.938408825373928], [5.6764496868279695, -2.877536152890145], [5.373740422273478, 12.636983164866734], [-12.281305912234053, -8.64686704463743], [-5.235974902635094, -4.119357783095237], [7.081399420875013, 11.73787445447032], [4.39552307717467, 0.07797613276763826], [-11.52250263011322, -1.8271859527260117], [-0.08462010441885902, 4.101145718078247]]\n",
      "선택된 원의 갯수: 23\n",
      "\n",
      "\n",
      "\n",
      "반지름 길이: 4인 원 생성, 선택된 점 들\n",
      "[[-8.649891817491874, -5.684867089597169], [3.1657403832052813, 5.7117480421792814], [2.0984774944542037, -3.0454149353983264], [4.001308305478501, 10.12114638073841], [-7.724620995118286, -2.260328529498752], [-9.348037201622468, -9.103370355946586], [-0.19920830419682425, 2.9539362973503978], [3.8052990001756655, -4.127117181077481], [5.918694178312997, 3.8859825989946097], [-11.204814662186573, -4.017641854444117], [-0.7899674747110494, -6.245615220364826], [6.6029814492434475, 10.705997433542686], [-0.0010134719779690826, 4.7543032390360915], [-4.374133612391172, -7.369407201012915], [3.7808067926339017, 0.4872714712191257], [-11.443027292551413, -8.376975112070271]]\n",
      "선택된 원의 갯수: 16\n",
      "\n",
      "\n",
      "\n",
      "반지름 길이: 5인 원 생성, 선택된 점 들\n",
      "[[-8.91602208298329, -5.347868135164285], [3.5223171812533587, 6.426582421982484], [2.897744974955406, -3.491483417874367], [4.917251278171033, 10.152673083710864], [-5.024548921675733, -1.237577313531451], [-8.91100293834021, -8.270829703585381], [-3.7570471750355576, 3.24391647371145], [-9.430385849198453, -1.9022492572817695], [-11.30548107209206, -5.8239196615510895], [1.6431304778145952, 2.132506462191932], [-4.374133612391172, -7.369407201012915]]\n",
      "선택된 원의 갯수: 11\n",
      "\n",
      "\n",
      "\n",
      "반지름 길이: 6인 원 생성, 선택된 점 들\n",
      "[[-8.291357259315681, -5.4065702702099845], [4.156984938875081, 6.981280909433093], [3.023234524154013, -2.3268315984232046], [-9.067849155431764, -6.7524844823837284], [-1.0394727059127409, 8.439241779341463], [5.324969010559277, 8.892585913623417], [-9.56628057717473, -3.872627570095711], [-5.699347225248332, -8.50143570587852]]\n",
      "선택된 원의 갯수: 8\n",
      "\n",
      "\n",
      "\n",
      "반지름 길이: 7인 원 생성, 선택된 점 들\n",
      "[[-4.742216622359665, -4.393417411837817], [3.385481574169793, 6.034352971817848], [3.1995337184891675, -1.4868422282332667], [-8.649891817491874, -5.684867089597169], [4.2132695425860245, 8.289502639044647], [1.287541126983022, 7.58476789330772]]\n",
      "선택된 원의 갯수: 6\n",
      "\n",
      "\n",
      "\n",
      "반지름 길이: 8인 원 생성, 선택된 점 들\n",
      "[[-4.742216622359665, -4.393417411837817], [3.712652133197576, 5.504660773057796], [3.0386269719719, -0.6747788445141119], [-8.006500575219818, -4.687642144311902], [6.144621941237983, 6.564726480823736]]\n",
      "선택된 원의 갯수: 5\n",
      "\n",
      "\n",
      "\n",
      "반지름 길이: 9인 원 생성, 선택된 점 들\n",
      "[[-1.6977392907099835, -3.612336974545712], [5.31157489544071, 5.734659835725013], [-7.286683221969058, -4.445207896870691], [-0.7899674747110494, -6.245615220364826]]\n",
      "선택된 원의 갯수: 4\n",
      "\n",
      "\n",
      "\n",
      "반지름 길이: 10인 원 생성, 선택된 점 들\n",
      "[[-3.8297750856743855, -1.4060796338623591], [3.368497270652417, 3.414073322753163], [-4.374133612391172, -7.369407201012915], [-5.679421519533347, -6.547652352063273], [3.2132126722484715, 5.397121372512782]]\n",
      "선택된 원의 갯수: 5\n",
      "\n",
      "\n",
      "\n",
      "반지름 길이: 11인 원 생성, 선택된 점 들\n",
      "[[-3.8297750856743855, -1.4060796338623591], [2.3297671138302607, 2.4811811345461683], [-4.742216622359665, -4.393417411837817], [3.144471806755728, 4.457733107278188]]\n",
      "선택된 원의 갯수: 4\n",
      "\n",
      "\n",
      "\n",
      "반지름 길이: 12인 원 생성, 선택된 점 들\n",
      "[[-0.6651111081018426, 0.8972789237042917], [-6.26848691368119, -1.3793438085686636], [1.1679906286576671, 4.27300824406134]]\n",
      "선택된 원의 갯수: 3\n",
      "\n",
      "\n",
      "\n",
      "반지름 길이: 13인 원 생성, 선택된 점 들\n",
      "[[-0.11506814074153925, -0.34503911005800303], [-5.024548921675733, -1.237577313531451], [-0.08462010441885902, 4.101145718078247]]\n",
      "선택된 원의 갯수: 3\n",
      "\n",
      "\n",
      "\n",
      "반지름 길이: 14인 원 생성, 선택된 점 들\n",
      "[[-0.6651111081018426, 0.8972789237042917], [-3.8297750856743855, -1.4060796338623591], [-0.19920830419682425, 2.9539362973503978]]\n",
      "선택된 원의 갯수: 3\n",
      "\n",
      "\n",
      "\n"
     ]
    }
   ],
   "source": [
    "for radius in range(3,15):\n",
    "    totalCircle = makeTotalCircle(radius)\n",
    "    totalSelectedPoint = processing(totalCircle)\n",
    "    print (\"반지름 길이: {radius}인 원 생성, 선택된 점 들\".format(radius=radius))\n",
    "    print(totalSelectedPoint)\n",
    "    print(\"선택된 원의 갯수: {num}\".format(num=len(totalSelectedPoint)))\n",
    "    print(\"\\n\\n\")"
   ]
  },
  {
   "cell_type": "code",
   "execution_count": null,
   "metadata": {},
   "outputs": [],
   "source": []
  }
 ],
 "metadata": {
  "kernelspec": {
   "display_name": "Python 3",
   "language": "python",
   "name": "python3"
  },
  "language_info": {
   "codemirror_mode": {
    "name": "ipython",
    "version": 3
   },
   "file_extension": ".py",
   "mimetype": "text/x-python",
   "name": "python",
   "nbconvert_exporter": "python",
   "pygments_lexer": "ipython3",
   "version": "3.8.3"
  }
 },
 "nbformat": 4,
 "nbformat_minor": 4
}
